{
 "cells": [
  {
   "cell_type": "code",
   "execution_count": null,
   "metadata": {},
   "outputs": [],
   "source": [
    "! pip install pandas\n",
    "import pandas as pd\n",
    "\n",
    "def load_and_clean_data(file_path):\n",
    "    df = pd.read_excel(file_path)\n",
    "    df = df.dropna()\n",
    "    return df\n",
    "\n",
    "if __name__ == \"__main__\":\n",
    "    df = load_and_clean_data('models/crop yield data sheet.xlsx')\n",
    "    df.to_csv('data/cleaned_data.csv', index=False)  # Save cleaned data to a new directory\n"
   ]
  },
  {
   "cell_type": "code",
   "execution_count": 4,
   "metadata": {},
   "outputs": [
    {
     "name": "stdout",
     "output_type": "stream",
     "text": [
      "Mean Squared Error: 0.4874408349568055\n",
      "R-squared: 0.8972667287720566\n"
     ]
    }
   ],
   "source": [
    "import pandas as pd\n",
    "from sklearn.model_selection import train_test_split\n",
    "from sklearn.linear_model import LinearRegression\n",
    "from sklearn.metrics import mean_squared_error, r2_score\n",
    "import joblib\n",
    "\n",
    "def train_model(data_path):\n",
    "    df = pd.read_csv(data_path)\n",
    "    X = df[['Rain Fall (mm)', 'Fertilizer', 'Temperatue', 'Nitrogen (N)', 'Phosphorus (P)', 'Potassium (K)']]\n",
    "    y = df['Yeild (Q/acre)']\n",
    "    X_train, X_test, y_train, y_test = train_test_split(X, y, test_size=0.3, random_state=42)\n",
    "\n",
    "    model = LinearRegression()\n",
    "    model.fit(X_train, y_train)\n",
    "    y_pred = model.predict(X_test)\n",
    "\n",
    "    mse = mean_squared_error(y_test, y_pred)\n",
    "    r2 = r2_score(y_test, y_pred)\n",
    "\n",
    "    print('Mean Squared Error:', mse)\n",
    "    print('R-squared:', r2)\n",
    "\n",
    "    joblib.dump(model, 'models/crop_yield_model.pkl')\n",
    "\n",
    "if __name__ == \"__main__\":\n",
    "    train_model('data/cleaned_data.csv')\n"
   ]
  },
  {
   "cell_type": "code",
   "execution_count": 5,
   "metadata": {},
   "outputs": [
    {
     "name": "stdout",
     "output_type": "stream",
     "text": [
      "Predicted Yield (Q/acre): 10.072315536785425\n"
     ]
    }
   ],
   "source": [
    "import pandas as pd\n",
    "import joblib\n",
    "\n",
    "def predict_yield(model_path, input_values):\n",
    "    model = joblib.load(model_path)\n",
    "    input_df = pd.DataFrame([input_values])\n",
    "    predicted_yield = model.predict(input_df)\n",
    "    return predicted_yield[0]\n",
    "\n",
    "if __name__ == \"__main__\":\n",
    "    input_values = {\n",
    "        'Rain Fall (mm)': 800.0,\n",
    "        'Fertilizer': 70.0,\n",
    "        'Temperatue': 30,\n",
    "        'Nitrogen (N)': 75.0,\n",
    "        'Phosphorus (P)': 22.0,\n",
    "        'Potassium (K)': 18.0\n",
    "    }\n",
    "    predicted_yield = predict_yield('models/crop_yield_model.pkl', input_values)\n",
    "    print(f'Predicted Yield (Q/acre): {predicted_yield}')\n"
   ]
  },
  {
   "cell_type": "code",
   "execution_count": 7,
   "metadata": {},
   "outputs": [],
   "source": [
    "# Import necessary libraries\n",
    "import pandas as pd\n",
    "import matplotlib.pyplot as plt\n",
    "\n",
    "# Load data\n",
    "df = pd.read_excel('models/crop yield data sheet.xlsx')\n",
    "\n",
    "# Data exploration\n",
    "df.head()\n",
    "\n",
    "# Data cleaning and preprocessing\n",
    "df = df.dropna()\n",
    "df.to_csv('data/cleaned_data.csv', index=False)\n",
    "\n",
    "# Model training\n",
    "# You can include code to call the `model_training.py` script here or write the training code directly in the notebook.\n"
   ]
  }
 ],
 "metadata": {
  "kernelspec": {
   "display_name": "Python 3",
   "language": "python",
   "name": "python3"
  },
  "language_info": {
   "codemirror_mode": {
    "name": "ipython",
    "version": 3
   },
   "file_extension": ".py",
   "mimetype": "text/x-python",
   "name": "python",
   "nbconvert_exporter": "python",
   "pygments_lexer": "ipython3",
   "version": "3.12.2"
  }
 },
 "nbformat": 4,
 "nbformat_minor": 2
}
